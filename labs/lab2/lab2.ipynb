{
 "cells": [
  {
   "cell_type": "markdown",
   "metadata": {},
   "source": [
    "# Lab 2: Utility-Scale Layer Fidelity Experiment\n",
    "\n",
    "Samantha Barron, Haimeng Zhang"
   ]
  },
  {
   "cell_type": "markdown",
   "metadata": {},
   "source": [
    "In this lab we will show a guided construction of how to calculate the EPLG (Error Per Layered Gate) and LF (Layer Fidelity). These metrics quantify error rates in a circuit, and are particularly useful in understanding the overhead required to run error mitigation at utility-scale workloads.\n",
    "\n",
    "For more details on the background of these metrics, see the [Quantum Research Blog post](https://www.ibm.com/quantum/blog/quantum-metric-layer-fidelity) or the associated technical paper, [Benchmarking Quantum Processor Performance at Scale](https://arxiv.org/abs/2311.05933). You can also find an implementation of the Layer Fidelity experiment [here](https://github.com/qiskit-community/qiskit-device-benchmarking/blob/main/notebooks/layer_fidelity.ipynb) using `qiskit-experiments` module, whereas, in this notebook, we will directly use Qiskit Runtime Primitives for circuit execution.\n",
    "\n",
    "The first few parts of this lab contain graded exercises, whereas the latter portions of this lab are a guided walkthrough of how to use the Qiskit Runtime to do these utility-scale calculations.\n",
    "\n",
    "Table of Contents:\n",
    "- In Section 0 we list the package requirement to run this notebook.\n",
    "- In Sections 1-3 we will set up the layers and associated circuits which define the disjoint sets of qubits on which we will perform EPLG calculations.\n",
    "- In Section 4 we construct the total EPLG circuits.\n",
    "- In Section 5-7 we construct the `BindingsArray`, `ObservablesArray`s, and `EstimatorPub`s for the EPLG characterization.\n",
    "- In Section 8 we submit these to the `EstimatorV2` Qiskit Runtime Primitive.\n",
    "- In Section 9 we perform the data analysis and fittings used to extract the EPLG and LF with the resulting data."
   ]
  },
  {
   "cell_type": "markdown",
   "metadata": {},
   "source": [
    "# Part 0: Requirements\n",
    "\n",
    "To run this notebook, you will need to install the following packages:\n",
    "\n",
    "For circuit construction and execution on the IBM Quantum hardware:\n",
    "```\n",
    "qiskit >= 1.0.0\n",
    "qiskit-ibm-runtime >= 0.21.1\n",
    "```\n",
    "For data analysis and display:\n",
    "```\n",
    "lmfit\n",
    "pandas\n",
    "```"
   ]
  },
  {
   "cell_type": "code",
   "execution_count": null,
   "metadata": {},
   "outputs": [],
   "source": [
    "%set_env QXToken="
   ]
  },
  {
   "cell_type": "markdown",
   "metadata": {},
   "source": [
    "# Part 1: Define 1-D Chain\n",
    "To start, we will choose a backend. In this lab you can choose whatever backend you want.\n",
    "\n",
    "In order to compute the EPLG and LF, we need to choose a chain of qubits on the device to characterize. The first problem is this, you should provide:\n",
    "1. A chain of qubits on the device which is a simply connected path graph of qubits on the device. I.e., provide a list `PATH_ANSWER: list[int]` whose elements are physical qubits on the device, and adjacent elements of the list are connected on the coupling map by edges. The list should contain at least `3` elements.\n",
    "2. The backend you have chosen: `BACKEND: IBMBackend`.\n",
    "\n",
    "Answers to grade:\n",
    "- `PATH_ANSWER: list[int]`\n",
    "- `BACKEND: IBMBackend`"
   ]
  },
  {
   "cell_type": "code",
   "execution_count": 118,
   "metadata": {},
   "outputs": [],
   "source": [
    "from qiskit_ibm_runtime import QiskitRuntimeService\n",
    "\n",
    "service = QiskitRuntimeService(\"ibm_quantum\", \"API_KEY\")"
   ]
  },
  {
   "cell_type": "code",
   "execution_count": 119,
   "metadata": {},
   "outputs": [],
   "source": [
    "# part 1: pick a backend and define 1-D chain\n",
    "\n",
    "### Your code goes here ###\n",
    "    \n",
    "BACKEND = service.least_busy()\n",
    "\n",
    "PATH_ANSWER = list(range(0,9))"
   ]
  },
  {
   "cell_type": "code",
   "execution_count": 120,
   "metadata": {},
   "outputs": [
    {
     "name": "stdout",
     "output_type": "stream",
     "text": [
      "Submitting your answer. Please wait...\n",
      "Nice work, all your answers look correct!\n"
     ]
    }
   ],
   "source": [
    "# grade part 1\n",
    "from qc_grader.challenges.qgss_2024 import grade_lab2_ex1\n",
    "grade_lab2_ex1(PATH_ANSWER, BACKEND)"
   ]
  },
  {
   "cell_type": "markdown",
   "metadata": {},
   "source": [
    "# Part 2: Define Disjoint Layers\n",
    "\n",
    "Next, we need to form two sets of edges which correspond to the different layers we will use in benchmarking, say `LAYER_1_ANSWER` and `LAYER_2_ANSWER`, each with type `list[tuple[int, int]]`. These layers should have the following properties:\n",
    "- Each `LAYER_i_ANSWER` contains edges on distinct sets of qubits, e.g. `(0, 1)` and `(1, 2)` cannot both be in `LAYER_i_ANSWER`, since they both contain `1`.\n",
    "- Every qubit in `PATH_ANSWER` must be contained in at least one of the `LAYER_i`s.\n",
    "\n",
    "Answers to grade:\n",
    "- `LAYER_1_ANSWER: list[tuple[int, int]]`\n",
    "- `LAYER_2_ANSWER: list[tuple[int, int]]`\n",
    "- `PATH_ANSWER: list[int]` (same as before)"
   ]
  },
  {
   "cell_type": "code",
   "execution_count": 121,
   "metadata": {},
   "outputs": [
    {
     "name": "stdout",
     "output_type": "stream",
     "text": [
      "[(1, 0), (2, 1), (3, 2), (4, 3), (4, 5), (4, 15), (6, 5), (6, 7), (7, 8), (8, 9), (10, 9), (10, 11), (11, 12), (12, 17), (13, 12), (14, 0), (14, 18), (15, 22), (16, 8), (16, 26), (17, 30), (18, 19), (20, 19), (20, 33), (21, 20), (21, 22), (22, 23), (24, 23), (24, 34), (25, 24), (26, 25), (27, 26), (28, 27), (28, 29), (28, 35), (30, 29), (30, 31), (31, 32), (32, 36), (33, 39), (34, 43), (35, 47), (36, 51), (37, 38), (39, 38), (40, 39), (40, 41), (41, 53), (42, 41), (42, 43), (43, 44), (44, 45), (46, 45), (46, 47), (48, 47), (48, 49), (50, 49), (50, 51), (52, 37), (52, 56), (53, 60), (54, 45), (54, 64), (55, 49), (55, 68), (56, 57), (57, 58), (58, 59), (58, 71), (59, 60), (60, 61), (62, 61), (62, 63), (62, 72), (63, 64), (65, 64), (65, 66), (67, 66), (67, 68), (69, 68), (69, 70), (73, 66), (74, 70), (74, 89), (75, 90), (76, 75), (77, 71), (77, 76), (77, 78), (79, 78), (79, 80), (80, 81), (81, 72), (81, 82), (82, 83), (83, 92), (84, 83), (85, 73), (85, 84), (85, 86), (86, 87), (87, 88), (88, 89), (91, 79), (92, 102), (93, 87), (93, 106), (94, 90), (94, 95), (95, 96), (97, 96), (97, 98), (98, 91), (99, 98), (100, 99), (100, 110), (101, 100), (101, 102), (102, 103), (104, 103), (105, 104), (105, 106), (107, 106), (108, 107), (108, 112), (109, 96), (110, 118), (111, 104), (112, 126), (113, 114), (114, 109), (114, 115), (116, 115), (116, 117), (117, 118), (118, 119), (120, 119), (121, 120), (122, 111), (122, 121), (122, 123), (124, 123), (125, 124), (125, 126)]\n",
      "4 4\n"
     ]
    }
   ],
   "source": [
    "# part 2: define disjoint layers from a 1D chain\n",
    "\n",
    "### Your code goes here ###\n",
    "\n",
    "LAYER_i =   [(i, i+1) for i in range(len(PATH_ANSWER)-1)]\n",
    "\n",
    "LAYER_1_ANSWER = []\n",
    "LAYER_2_ANSWER = []\n",
    "\n",
    "for i, pair in enumerate(LAYER_i):\n",
    "    if pair not in BACKEND.coupling_map:\n",
    "      pair = tuple(reversed(pair))\n",
    "    if i%2 == 0:\n",
    "      LAYER_1_ANSWER.append(pair)\n",
    "    else:\n",
    "      LAYER_2_ANSWER.append(pair)\n",
    "      \n",
    "print(list(BACKEND.coupling_map))\n",
    "print(len(LAYER_1_ANSWER), len(LAYER_2_ANSWER))"
   ]
  },
  {
   "cell_type": "code",
   "execution_count": 122,
   "metadata": {},
   "outputs": [
    {
     "name": "stdout",
     "output_type": "stream",
     "text": [
      "Submitting your answer. Please wait...\n",
      "Nice work, all your answers look correct!\n"
     ]
    }
   ],
   "source": [
    "# grade part 2\n",
    "from qc_grader.challenges.qgss_2024 import grade_lab2_ex2\n",
    "grade_lab2_ex2(LAYER_1_ANSWER, LAYER_2_ANSWER, PATH_ANSWER, BACKEND)"
   ]
  },
  {
   "cell_type": "markdown",
   "metadata": {},
   "source": [
    "# Part 3: Construct Clifford Entangling Layers\n",
    "Now we can use the `LAYER_i` from the previous problem to construct the `QuantumCircuit`s for each layer, which we will use for the EPLG experiments. Now it's your job to construct two circuits, `CIRC_1_ANSWER` and `CIRC_2_ANSWER`.\n",
    "- Each of them should contain a two-qubit Clifford gate for every pair in `LAYER_1_ANSWER` and `LAYER_2_ANSWER` from before.\n",
    "- The two-qubit Clifford gate (`GATE_NAME`) must be one provided by the backend you choose, i.e. it is in `backend.basis_gates`, should be one of `'ecr'`, `'cz'` or `'cx'` depending on your backend.\n",
    "\n",
    "Answers to grade:\n",
    "- `CIRCUIT_1_ANSWER: QuantumCircuit`\n",
    "- `CIRCUIT_2_ANSWER: QuantumCircuit`\n",
    "- `LAYER_1_ANSWER: list[tuple[int, int]]` (same as before)\n",
    "- `LAYER_2_ANSWER: list[tuple[int, int]]` (same as before)\n",
    "- `GATE_NAME: str`"
   ]
  },
  {
   "cell_type": "code",
   "execution_count": 123,
   "metadata": {},
   "outputs": [],
   "source": [
    "GATE_NAME = list(filter(lambda op : op in ['ecr', 'cz', 'cx'], BACKEND.operation_names))[0]"
   ]
  },
  {
   "cell_type": "code",
   "execution_count": 124,
   "metadata": {},
   "outputs": [],
   "source": [
    "# part 2: define disjoint layers from a 1D chain\n",
    "\n",
    "### Your code goes here ###\n",
    "\n",
    "from qiskit import QuantumCircuit\n",
    "\n",
    "CIRC_1_ANSWER = QuantumCircuit(BACKEND.num_qubits)\n",
    "CIRC_2_ANSWER = QuantumCircuit(BACKEND.num_qubits)\n",
    "for i in range(len(LAYER_1_ANSWER)):\n",
    "  CIRC_1_ANSWER.ecr(LAYER_1_ANSWER[i][0], LAYER_1_ANSWER[i][1])\n",
    "  CIRC_2_ANSWER.ecr(LAYER_2_ANSWER[i][0], LAYER_2_ANSWER[i][1])\n",
    "    "
   ]
  },
  {
   "cell_type": "code",
   "execution_count": 125,
   "metadata": {},
   "outputs": [
    {
     "name": "stdout",
     "output_type": "stream",
     "text": [
      "Submitting your answer. Please wait...\n",
      "Nice work, all your answers look correct!\n",
      "Submitting your answer. Please wait...\n",
      "Nice work, all your answers look correct!\n"
     ]
    }
   ],
   "source": [
    "# grade part 3\n",
    "from qc_grader.challenges.qgss_2024 import grade_lab2_ex3\n",
    "grade_lab2_ex3(CIRC_1_ANSWER, LAYER_1_ANSWER, GATE_NAME, BACKEND)\n",
    "grade_lab2_ex3(CIRC_2_ANSWER, LAYER_2_ANSWER, GATE_NAME, BACKEND)"
   ]
  },
  {
   "cell_type": "markdown",
   "metadata": {},
   "source": [
    "# Part 4: Construct EPLG Experiment Circuits\n",
    "\n",
    "*No grading for this part*\n",
    "\n",
    "In this part, we will use the circuits you constructed to construct the total EPLG circuits.  These circuits interleave the layers from before between layers of random Clifford gates.\n",
    "\n",
    "A few technical asides:\n",
    "1. There is a slight difference between the circuits constructed here and those defined in the EPLG paper. For a circuit of depth $d$ (for even $d$), we randomly sample 1q Clifford gates for $d/2$ layers, and then we invert the circuit for the last $d/2$ layers. This provides a simple implmentation for our purposes, and the details of this difference are beyond the scope of this lab.\n",
    "2. We perform 1q Clifford sampling by taking advantage of the fact that for backends whose single qubit gates are composed of $R_z(\\theta_1) \\sqrt{X} R_z(\\theta_2) \\sqrt{X} R_z(\\theta_3)$, when $\\theta_i \\in \\{ \\pm \\pi / 2, \\pm \\pi, 0 \\}$, the resulting single qubit gate is a Clifford. This allows us to randomly sample 1q Clifford gates simply by changing parameters."
   ]
  },
  {
   "cell_type": "code",
   "execution_count": 126,
   "metadata": {},
   "outputs": [],
   "source": [
    "from qiskit.circuit import Parameter\n",
    "from qiskit.transpiler.preset_passmanagers import generate_preset_pass_manager\n",
    "\n",
    "def eplg_circuit(num_qubits: int, depth: int, layer: QuantumCircuit, qubits: tuple[int, ...]) -> QuantumCircuit:\n",
    "    if depth % 2 != 0:\n",
    "        raise ValueError(f\"The depth must be even, got {depth}\")\n",
    "\n",
    "    def parameters():\n",
    "        _depth = 0\n",
    "        while True:\n",
    "            for zi in range(3):\n",
    "                for q in range(num_qubits):\n",
    "                    yield Parameter(f\"d{_depth}_q{q}_z{zi}\")\n",
    "            _depth += 1\n",
    "    _parameters = parameters()\n",
    "\n",
    "    circ = QuantumCircuit(num_qubits)\n",
    "\n",
    "    def _1q_layer():\n",
    "        for j in range(3):\n",
    "            for k in qubits:\n",
    "                circ.rz(next(_parameters), k)\n",
    "            if j == 2:\n",
    "                continue\n",
    "            circ.sx(qubits)\n",
    "\n",
    "    for _depth in range(depth // 2):\n",
    "        circ.barrier(qubits)\n",
    "        _1q_layer()\n",
    "        circ.barrier(qubits)\n",
    "        circ.compose(layer, inplace=True)\n",
    "    circ.barrier(qubits)\n",
    "    _1q_layer()\n",
    "    circ.barrier(qubits)\n",
    "    \n",
    "    # Assuming mirroring is fine\n",
    "    circ = circ.compose(circ.inverse())\n",
    "\n",
    "    circ.measure_active()\n",
    "\n",
    "    pm = generate_preset_pass_manager(basis_gates=[\"ecr\", \"sx\", \"rz\"], optimization_level=0)\n",
    "    circ = pm.run(circ)\n",
    "\n",
    "    circ.metadata[\"layer_depth\"] = depth\n",
    "    circ.metadata[\"qubits\"] = qubits\n",
    "    circ.metadata[\"num_qubits\"] = num_qubits\n",
    "\n",
    "    return circ"
   ]
  },
  {
   "cell_type": "markdown",
   "metadata": {},
   "source": [
    "Here are examples of the EPLG circuits for depth $d=4$. In a later part we will use this function to construct circuits for varying $d$."
   ]
  },
  {
   "cell_type": "code",
   "execution_count": 127,
   "metadata": {},
   "outputs": [],
   "source": [
    "example_circuit_1 = eplg_circuit(\n",
    "    num_qubits=BACKEND.num_qubits,\n",
    "    depth=4,\n",
    "    layer=CIRC_1_ANSWER,\n",
    "    qubits=PATH_ANSWER,\n",
    ")"
   ]
  },
  {
   "cell_type": "code",
   "execution_count": 128,
   "metadata": {},
   "outputs": [],
   "source": [
    "example_circuit_2 = eplg_circuit(\n",
    "    num_qubits=BACKEND.num_qubits,\n",
    "    depth=4,\n",
    "    layer=CIRC_2_ANSWER,\n",
    "    qubits=PATH_ANSWER,\n",
    ")"
   ]
  },
  {
   "cell_type": "markdown",
   "metadata": {},
   "source": [
    "# Part 5: Construct `BindingsArray`s\n",
    "\n",
    "*No grading for this part*\n",
    "\n",
    "In the previous section, the circuits we constructed are parameterized such that if we sample with the appropriate values, they will always produce random single-qubit Clifford gates.\n",
    "\n",
    "For our EPLG calculations, we need to sample lots of sets of parameters. This is expressed conveniently with the `BindingsArray`. The `BindingsArray` can be thought of as an array whose elements correspond to sets of parameters and their bound values.\n",
    "\n",
    "For example, if we have a circuit with $k$ parameters, and we need to sample all of the parameters $m$ times, the `BindingsArray` that accomplishes this would have shape `(m,)`. Similarly, if we want to have a more complicated set of bindings to perform, our `BindingsArray` can have arbitrary shape, and supports `numpy`-like reshaping operations, slicing, etc.\n",
    "\n",
    "In this section, we will construct a function which accepts a `QuantumCircuit`, the number of samples we want to perform, and a `numpy` RNG to perform the single-qubit Clifford sampling. We will use this later on to produce our `EstimatorPub`s."
   ]
  },
  {
   "cell_type": "code",
   "execution_count": 129,
   "metadata": {},
   "outputs": [],
   "source": [
    "import numpy as np\n",
    "\n",
    "from qiskit.primitives.containers.bindings_array import BindingsArray\n",
    "\n",
    "def get_clifford_rz_samples(\n",
    "    circ: QuantumCircuit,\n",
    "    num_samples: int,\n",
    "    rng: np.random.Generator,\n",
    ") -> BindingsArray:\n",
    "    \"\"\"Uniformly sample the Rz parameters in a `QuantumCircuit`\n",
    "    from -pi, -pi/2, 0, +pi/2, +pi.\n",
    "    \"\"\"\n",
    "\n",
    "    _allowed_ops = {'rz', 'sx', 'sxdg', 'ecr', 'barrier', 'measure'}\n",
    "    if (_other := set(circ.count_ops().keys()) - _allowed_ops):\n",
    "        raise ValueError(f\"Circuit must only contain ops: {_allowed_ops}, got {_other}\")\n",
    "\n",
    "    sampled_pars = rng.integers(-2, 3, size=(num_samples, len(circ.parameters))) * (np.pi/2)\n",
    "\n",
    "    return BindingsArray({\n",
    "        tuple(circ.parameters): sampled_pars\n",
    "    })"
   ]
  },
  {
   "cell_type": "markdown",
   "metadata": {},
   "source": [
    "As an example, we can take each of our circuits and produce bindings"
   ]
  },
  {
   "cell_type": "code",
   "execution_count": 130,
   "metadata": {},
   "outputs": [],
   "source": [
    "num_samples = 10\n",
    "ARRAY_1_ANSWER = get_clifford_rz_samples(\n",
    "    circ=example_circuit_1,\n",
    "    num_samples=num_samples,\n",
    "    rng=np.random.default_rng(42))"
   ]
  },
  {
   "cell_type": "code",
   "execution_count": 131,
   "metadata": {},
   "outputs": [
    {
     "name": "stdout",
     "output_type": "stream",
     "text": [
      "Submitting your answer. Please wait...\n",
      "Nice work, all your answers look correct! \n",
      " Notice that the shape of the BindingsArray is [10], and there are {num_parameters} parameters.\n"
     ]
    }
   ],
   "source": [
    "# grade part 4\n",
    "from qc_grader.challenges.qgss_2024 import grade_lab2_ex4\n",
    "grade_lab2_ex4(ARRAY_1_ANSWER, example_circuit_1, num_samples)"
   ]
  },
  {
   "cell_type": "markdown",
   "metadata": {},
   "source": [
    "Notice that despite the large number of parameters, the `BindingsArray` has shape `(10,)`, meaning it has `10` entries. As we discussed before, this is because its elements correspond to sets of parameters and their bound values"
   ]
  },
  {
   "cell_type": "markdown",
   "metadata": {},
   "source": [
    "# Part 6: Make `ObservablesArray`s\n",
    "\n",
    "*No grading for this part*\n",
    "\n",
    "The only remaining thing that we need to produce an `EstimatorPub` is an `ObservablesArray`. The `ObservablesArray` can be seen as a array whose elements are observables. In our case, they will be `SparsePauliOp`s.\n",
    "\n",
    "In order to calculate the EPLG and LF, we need to calculate the expectation values $\\text{Tr}\\left( \\rho \\ket{00}_{i,j}\\bra{00}_{i,j}\\right)$ and $\\text{Tr}\\left( \\rho \\ket{0}_{i}\\bra{0}_{i}\\right)$ for qubits $i$, $j$ depending on the layers we chose before.\n",
    "\n",
    "Alternatively we could do this using the `SamplerV2` rather than the `EstimatorV2`. This would come with the tradeoff of having more post-processing that we have to do, but we can have the `EstimatorV2` do this for us by constructing the projectors $\\ket{0}_{i}\\bra{0}_{i}$ and $\\ket{00}_{i,j}\\bra{00}_{i,j}$ and using them as observables.\n",
    "\n",
    "This means that the expectation values we get back from the `EstimatorV2` will be the process fidelities that we're interested in!"
   ]
  },
  {
   "cell_type": "code",
   "execution_count": 132,
   "metadata": {},
   "outputs": [],
   "source": [
    "import numpy as np\n",
    "from itertools import product\n",
    "from qiskit.quantum_info import SparsePauliOp\n",
    "\n",
    "def process_fidelity_observable(num_qubits: int, qubits: tuple[int, ...]) -> SparsePauliOp:\n",
    "    \"\"\"Produces the all 0 projector on `qubits` tensored with the identity on all other qubits\"\"\"\n",
    "    pauli_strings = []\n",
    "\n",
    "    for p_sub_str in product([\"I\", \"Z\"], repeat=len(qubits)):\n",
    "        p_str = [\"I\"] * num_qubits\n",
    "        for qi, pi in zip(qubits, p_sub_str):\n",
    "            p_str[qi] = pi\n",
    "        pauli_strings.append(\"\".join(p_str[::-1]))\n",
    "    \n",
    "    return SparsePauliOp(pauli_strings, np.ones(len(pauli_strings)) / 2**len(qubits))"
   ]
  },
  {
   "cell_type": "markdown",
   "metadata": {},
   "source": [
    "Now we need to produce `ObservablesArray`s which correspond to the projectors we are interested in, i.e. the process fidelities for subsets of our path."
   ]
  },
  {
   "cell_type": "code",
   "execution_count": 133,
   "metadata": {},
   "outputs": [],
   "source": [
    "from qiskit.primitives.containers.observables_array import ObservablesArray\n",
    "\n",
    "LAYER_1_SUBSYSTEMS = LAYER_1_ANSWER + [(q,) for q in set(PATH_ANSWER) - set(item for sublist in LAYER_1_ANSWER for item in sublist)]\n",
    "LAYER_2_SUBSYSTEMS = LAYER_2_ANSWER + [(q,) for q in set(PATH_ANSWER) - set(item for sublist in LAYER_2_ANSWER for item in sublist)]\n",
    "\n",
    "LAYER_1_OBSERVABLES = ObservablesArray([process_fidelity_observable(BACKEND.num_qubits, qubits) for qubits in LAYER_1_SUBSYSTEMS])\n",
    "LAYER_2_OBSERVABLES = ObservablesArray([process_fidelity_observable(BACKEND.num_qubits, qubits) for qubits in LAYER_2_SUBSYSTEMS])"
   ]
  },
  {
   "cell_type": "markdown",
   "metadata": {},
   "source": [
    "Note that the `LAYER_i_OBSERVABLES` have a shape which corresponds to the number of subsystems in each layer.\n",
    "\n",
    "Since all of the observables in our `ObservablesArray`s are diagonal in the computational basis (i.e. they only consist of Paulis which have $I$ and $Z$ terms), the `EstimatorV2` does not need to compute expectation values in additional bases."
   ]
  },
  {
   "cell_type": "code",
   "execution_count": 134,
   "metadata": {},
   "outputs": [
    {
     "data": {
      "text/plain": [
       "True"
      ]
     },
     "execution_count": 134,
     "metadata": {},
     "output_type": "execute_result"
    }
   ],
   "source": [
    "LAYER_1_OBSERVABLES.shape == (len(LAYER_1_SUBSYSTEMS),)"
   ]
  },
  {
   "cell_type": "code",
   "execution_count": 135,
   "metadata": {},
   "outputs": [
    {
     "data": {
      "text/plain": [
       "True"
      ]
     },
     "execution_count": 135,
     "metadata": {},
     "output_type": "execute_result"
    }
   ],
   "source": [
    "LAYER_2_OBSERVABLES.shape == (len(LAYER_2_SUBSYSTEMS),)"
   ]
  },
  {
   "cell_type": "markdown",
   "metadata": {},
   "source": [
    "# Part 7: Make Sequence of `EstimatorPub`s\n",
    "\n",
    "*No grading for this part*\n",
    "\n",
    "Finally, we can construct our `EstimatorPub`s. The [`EstimatorPub`](https://github.com/Qiskit/qiskit/blob/main/qiskit/primitives/containers/estimator_pub.py#L36) is can be seen as a tuple consisting of a `QuantumCircuit`, an `ObservablesArray`, and a `BindingsArray` (and optionally a precision). Given an `EstimatorPub` with a given shape, the `EstimatorV2` will return arrays of expectation values (and their standard deviations) whose shape is the same as the input `EstimatorPub`.\n",
    "\n",
    "In order to construct the `EstimatorPub`s needed to do the EPLG calculations, we need `EstimatorPub`s which vary in\n",
    "- the input circuit (i.e. one for each disjoint set of edges) (in our case `2`)\n",
    "- the depth of the circuit (we have chosen `6` depths here by default).\n",
    "\n",
    "Therefore, we will have $2 \\times 6 = 12$ `EstimatorPub`s total. Within each of these, we have `10` twirling samples, and `k` fidelities (which depends on the path you chose, this should roughly be half of the length of the path). So we have $12$ `EstimatorPub`s, each with $10 k$ elements.\n",
    "\n",
    "Therefore, the total number of expectation values that we *expect* to receive is $120k$. For a length $30$ chain, $k = 15$, meaning we should roughly $1,800$ expectation values back overall (depending on the edges of the chain)."
   ]
  },
  {
   "cell_type": "code",
   "execution_count": 136,
   "metadata": {},
   "outputs": [],
   "source": [
    "rng = np.random.default_rng(42)\n",
    "num_samples = 10\n",
    "depths = [2, 4, 8, 16, 32, 64]"
   ]
  },
  {
   "cell_type": "code",
   "execution_count": 137,
   "metadata": {},
   "outputs": [],
   "source": [
    "from qiskit.primitives.containers.estimator_pub import EstimatorPub\n",
    "\n",
    "estimator_pubs = []\n",
    "for depth in depths:\n",
    "    for layer, name, observables in [(CIRC_1_ANSWER, \"circ_1\", LAYER_1_OBSERVABLES), (CIRC_2_ANSWER, \"circ_2\", LAYER_2_OBSERVABLES)]:\n",
    "        circ = eplg_circuit(\n",
    "            num_qubits=BACKEND.num_qubits,\n",
    "            depth=depth,\n",
    "            layer=layer,\n",
    "            qubits=PATH_ANSWER,\n",
    "        )\n",
    "        circ.metadata[\"layer_idx\"] = name\n",
    "        bindings_array = get_clifford_rz_samples(\n",
    "            circ=circ,\n",
    "            num_samples=num_samples,\n",
    "            rng=rng,\n",
    "        )\n",
    "\n",
    "        # We need to reshape the `ObservablesArray`s and `BindingsArray`s so they\n",
    "        # can be broadcasted.\n",
    "        # https://numpy.org/doc/stable/user/basics.broadcasting.html#basics-broadcasting\n",
    "        estimator_pubs.append(EstimatorPub(\n",
    "            circuit=circ,\n",
    "            observables=observables.reshape((*observables.shape, 1)),\n",
    "            parameter_values=bindings_array.reshape((1, *bindings_array.shape)),\n",
    "        ))"
   ]
  },
  {
   "cell_type": "markdown",
   "metadata": {},
   "source": [
    "As a sanity check, we can count the number of expectation values we should obtain overall from the shape of the `EstimatorPub`s."
   ]
  },
  {
   "cell_type": "code",
   "execution_count": 138,
   "metadata": {},
   "outputs": [
    {
     "data": {
      "text/plain": [
       "600"
      ]
     },
     "execution_count": 138,
     "metadata": {},
     "output_type": "execute_result"
    }
   ],
   "source": [
    "num_evs_expected = 0\n",
    "for pub in estimator_pubs:\n",
    "    num_evs_expected += np.prod(estimator_pubs[0].shape)\n",
    "num_evs_expected"
   ]
  },
  {
   "cell_type": "markdown",
   "metadata": {},
   "source": [
    "# Part 8: Submit to Runtime\n",
    "\n",
    "*No grading for this part*\n",
    "\n",
    "Finally, we are ready to hand off our `EstimatorPub`s to the `EstimatorV2`.\n",
    "\n",
    "Since the calculation of EPLG is SPAM-robust, we should turn off measurement mitigation, which is enabled by default."
   ]
  },
  {
   "cell_type": "code",
   "execution_count": 139,
   "metadata": {},
   "outputs": [],
   "source": [
    "from qiskit_ibm_runtime import EstimatorV2\n",
    "estimator = EstimatorV2(backend=BACKEND)\n",
    "estimator.options.resilience.measure_mitigation = False"
   ]
  },
  {
   "cell_type": "markdown",
   "metadata": {},
   "source": [
    "Now we can run the `EstimatorV2` with our `EstimatorPub`s and wait for the result.\n",
    "\n",
    "With the default settings in this notebook, this should take no more than 10 minutes to complete (not accounting for queue time)."
   ]
  },
  {
   "cell_type": "code",
   "execution_count": 140,
   "metadata": {},
   "outputs": [],
   "source": [
    "estimator_job = estimator.run(estimator_pubs)"
   ]
  },
  {
   "cell_type": "markdown",
   "metadata": {},
   "source": [
    "And we can get the `PrimitiveResult` with"
   ]
  },
  {
   "cell_type": "code",
   "execution_count": 141,
   "metadata": {},
   "outputs": [
    {
     "data": {
      "text/plain": [
       "PrimitiveResult([PubResult(data=DataBin(evs=np.ndarray(<shape=(5, 10), dtype=float64>), stds=np.ndarray(<shape=(5, 10), dtype=float64>), ensemble_standard_error=np.ndarray(<shape=(5, 10), dtype=float64>), shape=(5, 10)), metadata={'shots': 4096, 'target_precision': 0.015625, 'circuit_metadata': {'layer_depth': 2, 'qubits': [0, 1, 2, 3, 4, 5, 6, 7, 8], 'num_qubits': 127, 'layer_idx': 'circ_1'}, 'num_randomizations': 32}), PubResult(data=DataBin(evs=np.ndarray(<shape=(5, 10), dtype=float64>), stds=np.ndarray(<shape=(5, 10), dtype=float64>), ensemble_standard_error=np.ndarray(<shape=(5, 10), dtype=float64>), shape=(5, 10)), metadata={'shots': 4096, 'target_precision': 0.015625, 'circuit_metadata': {'layer_depth': 2, 'qubits': [0, 1, 2, 3, 4, 5, 6, 7, 8], 'num_qubits': 127, 'layer_idx': 'circ_2'}, 'num_randomizations': 32}), PubResult(data=DataBin(evs=np.ndarray(<shape=(5, 10), dtype=float64>), stds=np.ndarray(<shape=(5, 10), dtype=float64>), ensemble_standard_error=np.ndarray(<shape=(5, 10), dtype=float64>), shape=(5, 10)), metadata={'shots': 4096, 'target_precision': 0.015625, 'circuit_metadata': {'layer_depth': 4, 'qubits': [0, 1, 2, 3, 4, 5, 6, 7, 8], 'num_qubits': 127, 'layer_idx': 'circ_1'}, 'num_randomizations': 32}), PubResult(data=DataBin(evs=np.ndarray(<shape=(5, 10), dtype=float64>), stds=np.ndarray(<shape=(5, 10), dtype=float64>), ensemble_standard_error=np.ndarray(<shape=(5, 10), dtype=float64>), shape=(5, 10)), metadata={'shots': 4096, 'target_precision': 0.015625, 'circuit_metadata': {'layer_depth': 4, 'qubits': [0, 1, 2, 3, 4, 5, 6, 7, 8], 'num_qubits': 127, 'layer_idx': 'circ_2'}, 'num_randomizations': 32}), PubResult(data=DataBin(evs=np.ndarray(<shape=(5, 10), dtype=float64>), stds=np.ndarray(<shape=(5, 10), dtype=float64>), ensemble_standard_error=np.ndarray(<shape=(5, 10), dtype=float64>), shape=(5, 10)), metadata={'shots': 4096, 'target_precision': 0.015625, 'circuit_metadata': {'layer_depth': 8, 'qubits': [0, 1, 2, 3, 4, 5, 6, 7, 8], 'num_qubits': 127, 'layer_idx': 'circ_1'}, 'num_randomizations': 32}), PubResult(data=DataBin(evs=np.ndarray(<shape=(5, 10), dtype=float64>), stds=np.ndarray(<shape=(5, 10), dtype=float64>), ensemble_standard_error=np.ndarray(<shape=(5, 10), dtype=float64>), shape=(5, 10)), metadata={'shots': 4096, 'target_precision': 0.015625, 'circuit_metadata': {'layer_depth': 8, 'qubits': [0, 1, 2, 3, 4, 5, 6, 7, 8], 'num_qubits': 127, 'layer_idx': 'circ_2'}, 'num_randomizations': 32}), PubResult(data=DataBin(evs=np.ndarray(<shape=(5, 10), dtype=float64>), stds=np.ndarray(<shape=(5, 10), dtype=float64>), ensemble_standard_error=np.ndarray(<shape=(5, 10), dtype=float64>), shape=(5, 10)), metadata={'shots': 4096, 'target_precision': 0.015625, 'circuit_metadata': {'layer_depth': 16, 'qubits': [0, 1, 2, 3, 4, 5, 6, 7, 8], 'num_qubits': 127, 'layer_idx': 'circ_1'}, 'num_randomizations': 32}), PubResult(data=DataBin(evs=np.ndarray(<shape=(5, 10), dtype=float64>), stds=np.ndarray(<shape=(5, 10), dtype=float64>), ensemble_standard_error=np.ndarray(<shape=(5, 10), dtype=float64>), shape=(5, 10)), metadata={'shots': 4096, 'target_precision': 0.015625, 'circuit_metadata': {'layer_depth': 16, 'qubits': [0, 1, 2, 3, 4, 5, 6, 7, 8], 'num_qubits': 127, 'layer_idx': 'circ_2'}, 'num_randomizations': 32}), PubResult(data=DataBin(evs=np.ndarray(<shape=(5, 10), dtype=float64>), stds=np.ndarray(<shape=(5, 10), dtype=float64>), ensemble_standard_error=np.ndarray(<shape=(5, 10), dtype=float64>), shape=(5, 10)), metadata={'shots': 4096, 'target_precision': 0.015625, 'circuit_metadata': {'layer_depth': 32, 'qubits': [0, 1, 2, 3, 4, 5, 6, 7, 8], 'num_qubits': 127, 'layer_idx': 'circ_1'}, 'num_randomizations': 32}), PubResult(data=DataBin(evs=np.ndarray(<shape=(5, 10), dtype=float64>), stds=np.ndarray(<shape=(5, 10), dtype=float64>), ensemble_standard_error=np.ndarray(<shape=(5, 10), dtype=float64>), shape=(5, 10)), metadata={'shots': 4096, 'target_precision': 0.015625, 'circuit_metadata': {'layer_depth': 32, 'qubits': [0, 1, 2, 3, 4, 5, 6, 7, 8], 'num_qubits': 127, 'layer_idx': 'circ_2'}, 'num_randomizations': 32}), PubResult(data=DataBin(evs=np.ndarray(<shape=(5, 10), dtype=float64>), stds=np.ndarray(<shape=(5, 10), dtype=float64>), ensemble_standard_error=np.ndarray(<shape=(5, 10), dtype=float64>), shape=(5, 10)), metadata={'shots': 4096, 'target_precision': 0.015625, 'circuit_metadata': {'layer_depth': 64, 'qubits': [0, 1, 2, 3, 4, 5, 6, 7, 8], 'num_qubits': 127, 'layer_idx': 'circ_1'}, 'num_randomizations': 32}), PubResult(data=DataBin(evs=np.ndarray(<shape=(5, 10), dtype=float64>), stds=np.ndarray(<shape=(5, 10), dtype=float64>), ensemble_standard_error=np.ndarray(<shape=(5, 10), dtype=float64>), shape=(5, 10)), metadata={'shots': 4096, 'target_precision': 0.015625, 'circuit_metadata': {'layer_depth': 64, 'qubits': [0, 1, 2, 3, 4, 5, 6, 7, 8], 'num_qubits': 127, 'layer_idx': 'circ_2'}, 'num_randomizations': 32})], metadata={'dynamical_decoupling': {'enable': False, 'sequence_type': 'XX', 'extra_slack_distribution': 'middle', 'scheduling_method': 'alap'}, 'twirling': {'enable_gates': False, 'enable_measure': True, 'num_randomizations': 'auto', 'shots_per_randomization': 'auto', 'interleave_randomizations': True, 'strategy': 'active-accum'}, 'resilience': {'measure_mitigation': False, 'zne_mitigation': False, 'pec_mitigation': False}, 'version': 2})"
      ]
     },
     "execution_count": 141,
     "metadata": {},
     "output_type": "execute_result"
    }
   ],
   "source": [
    "primitive_result = estimator_job.result()\n",
    "\n",
    "primitive_result"
   ]
  },
  {
   "cell_type": "markdown",
   "metadata": {},
   "source": [
    "# Part 9: Data Analysis"
   ]
  },
  {
   "cell_type": "markdown",
   "metadata": {},
   "source": [
    "The final step is to perform the fittings of the decay curves to perform the EPLG analysis.\n",
    "\n",
    "Let's first grab some of the relevant data from the `PrimitiveResult`."
   ]
  },
  {
   "cell_type": "code",
   "execution_count": 142,
   "metadata": {},
   "outputs": [],
   "source": [
    "data_out = {\n",
    "    \"evs\": [pub_res.data.evs for pub_res in primitive_result],\n",
    "    \"stds\": [pub_res.data.stds for pub_res in primitive_result],\n",
    "    \"result_metadata\": primitive_result.metadata,\n",
    "    \"pub_metadata\": [pub_res.metadata for pub_res in primitive_result]\n",
    "}"
   ]
  },
  {
   "cell_type": "markdown",
   "metadata": {},
   "source": [
    "Now we can rearrange the expectation values into an array in a convenient form, as well as average over the randomized Cliffords."
   ]
  },
  {
   "cell_type": "code",
   "execution_count": 143,
   "metadata": {},
   "outputs": [],
   "source": [
    "# evs_at_depth is a \n",
    "evs_at_depth = np.zeros((len(depths), data_out['evs'][0].shape[0]*2))\n",
    "for i in range(len(depths)):\n",
    "    layer1_evs = np.average(data_out['evs'][2*i], axis=-1)\n",
    "    layer2_evs = np.average(data_out['evs'][2*i+1], axis=-1)\n",
    "    evs_at_depth[i,:] = np.array([item for pair in zip(layer1_evs, layer2_evs) for item in pair])"
   ]
  },
  {
   "cell_type": "markdown",
   "metadata": {},
   "source": [
    "The resulting shape has two axes, one for the depth (axis `0`, with shape `6`) and one for the number of subsystem fidelities (axis `1`, dependent on your path)."
   ]
  },
  {
   "cell_type": "code",
   "execution_count": 144,
   "metadata": {},
   "outputs": [
    {
     "data": {
      "text/plain": [
       "(6, 10)"
      ]
     },
     "execution_count": 144,
     "metadata": {},
     "output_type": "execute_result"
    }
   ],
   "source": [
    "evs_at_depth.shape"
   ]
  },
  {
   "cell_type": "markdown",
   "metadata": {},
   "source": [
    "Now we can plot the decay curves for the different subsystems."
   ]
  },
  {
   "cell_type": "code",
   "execution_count": 145,
   "metadata": {},
   "outputs": [],
   "source": [
    "import matplotlib.pyplot as plt"
   ]
  },
  {
   "cell_type": "code",
   "execution_count": 146,
   "metadata": {},
   "outputs": [
    {
     "data": {
      "image/png": "[encoded data removed]",
      "text/plain": [
       "<Figure size 640x480 with 1 Axes>"
      ]
     },
     "metadata": {},
     "output_type": "display_data"
    }
   ],
   "source": [
    "ax = plt.gca()\n",
    "for i in range(evs_at_depth.shape[1]):\n",
    "    ax.plot(depths, evs_at_depth[:,i])\n",
    "\n",
    "ax.set_ylabel(\"Ground State Population\")\n",
    "ax.set_xlabel(\"Depth\")\n",
    "ax.grid()"
   ]
  },
  {
   "cell_type": "markdown",
   "metadata": {},
   "source": [
    "Now we need to fit these to exponential decays, we can do this with the `lmfit` python package. The exponential decay has the following form:\n",
    "$$\n",
    "A\\alpha^L+B\n",
    "$$\n",
    "where $\\alpha$ is the error rate, $L$ denotes the number of cycles (depth) in the EPLG circuits, parameters $A$ and $B$ are the fitting parameters to capture the SPAM (state preparation and measurement) errors."
   ]
  },
  {
   "cell_type": "code",
   "execution_count": 147,
   "metadata": {},
   "outputs": [],
   "source": [
    "import lmfit\n",
    "model= lmfit.models.ExpressionModel(\n",
    "            expr=\"a * alpha ** x + b\",\n",
    "            name=\"rb_decay\")\n",
    "\n",
    "params_dict = {\n",
    "    'a': {'value': 1.0,\n",
    "            'min': -1.0,\n",
    "            'max': 1.0,\n",
    "            },\n",
    "    'b': {'value': 0.0, \n",
    "            'min': -1.0,\n",
    "            'max': 1.0,\n",
    "            },\n",
    "    'alpha': {'value': 0.9, \n",
    "              'min': 0.0,\n",
    "              'max': 1.0\n",
    "              },\n",
    "}\n",
    "p = model.make_params(**params_dict)"
   ]
  },
  {
   "cell_type": "code",
   "execution_count": 148,
   "metadata": {},
   "outputs": [],
   "source": [
    "alphas = []\n",
    "for i in range(evs_at_depth.shape[-1]):\n",
    "    result = model.fit(evs_at_depth[:,i], p, x=depths)\n",
    "    alphas.append(result.params['alpha'].value)"
   ]
  },
  {
   "cell_type": "markdown",
   "metadata": {},
   "source": [
    "Now we can finally use the expressions in the EPLG paper to compute process fidelities.\n",
    "$\\alpha$ is related to the average gate error vis\n",
    "$$\n",
    "\\epsilon = \\frac{D-1}{D} (1-\\alpha)\n",
    "$$\n",
    "where $D$ denotes the the dimension of the Hilbert space, e.g., $D=4$ for two-qubit processes. The average gate fidelity is $F_g = 1-\\epsilon$.\n",
    "The process fidelity is related to the average gate fidelity via\n",
    "$$\n",
    "F_g=\\frac{DF_p+1}{D+1}\n",
    "$$"
   ]
  },
  {
   "cell_type": "code",
   "execution_count": 149,
   "metadata": {},
   "outputs": [],
   "source": [
    "def cal_process_fid(alpha, D=4):\n",
    "    epsilon = (D-1) * (1 - alpha)/D\n",
    "    Fg = 1 - epsilon\n",
    "    Fp = ((D+1) * Fg -1)/D\n",
    "    return Fp"
   ]
  },
  {
   "cell_type": "markdown",
   "metadata": {},
   "source": [
    "And with a little data-wrangling in `pandas` we can apply this to our data."
   ]
  },
  {
   "cell_type": "code",
   "execution_count": 150,
   "metadata": {},
   "outputs": [
    {
     "data": {
      "text/html": [
       "<div>\n",
       "<style scoped>\n",
       "    .dataframe tbody tr th:only-of-type {\n",
       "        vertical-align: middle;\n",
       "    }\n",
       "\n",
       "    .dataframe tbody tr th {\n",
       "        vertical-align: top;\n",
       "    }\n",
       "\n",
       "    .dataframe thead th {\n",
       "        text-align: right;\n",
       "    }\n",
       "</style>\n",
       "<table border=\"1\" class=\"dataframe\">\n",
       "  <thead>\n",
       "    <tr style=\"text-align: right;\">\n",
       "      <th></th>\n",
       "      <th>qubit pair</th>\n",
       "      <th>alpha</th>\n",
       "      <th>process fidelity</th>\n",
       "    </tr>\n",
       "  </thead>\n",
       "  <tbody>\n",
       "    <tr>\n",
       "      <th>0</th>\n",
       "      <td>(1, 0)</td>\n",
       "      <td>0.986274</td>\n",
       "      <td>0.987131</td>\n",
       "    </tr>\n",
       "    <tr>\n",
       "      <th>1</th>\n",
       "      <td>(2, 1)</td>\n",
       "      <td>0.982678</td>\n",
       "      <td>0.983761</td>\n",
       "    </tr>\n",
       "    <tr>\n",
       "      <th>2</th>\n",
       "      <td>(3, 2)</td>\n",
       "      <td>0.900000</td>\n",
       "      <td>0.906250</td>\n",
       "    </tr>\n",
       "    <tr>\n",
       "      <th>3</th>\n",
       "      <td>(4, 3)</td>\n",
       "      <td>0.900000</td>\n",
       "      <td>0.906250</td>\n",
       "    </tr>\n",
       "    <tr>\n",
       "      <th>4</th>\n",
       "      <td>(4, 5)</td>\n",
       "      <td>0.969778</td>\n",
       "      <td>0.971667</td>\n",
       "    </tr>\n",
       "    <tr>\n",
       "      <th>5</th>\n",
       "      <td>(6, 5)</td>\n",
       "      <td>0.973390</td>\n",
       "      <td>0.975053</td>\n",
       "    </tr>\n",
       "    <tr>\n",
       "      <th>6</th>\n",
       "      <td>(6, 7)</td>\n",
       "      <td>0.900000</td>\n",
       "      <td>0.906250</td>\n",
       "    </tr>\n",
       "    <tr>\n",
       "      <th>7</th>\n",
       "      <td>(7, 8)</td>\n",
       "      <td>0.987713</td>\n",
       "      <td>0.988481</td>\n",
       "    </tr>\n",
       "  </tbody>\n",
       "</table>\n",
       "</div>"
      ],
      "text/plain": [
       "  qubit pair     alpha  process fidelity\n",
       "0     (1, 0)  0.986274          0.987131\n",
       "1     (2, 1)  0.982678          0.983761\n",
       "2     (3, 2)  0.900000          0.906250\n",
       "3     (4, 3)  0.900000          0.906250\n",
       "4     (4, 5)  0.969778          0.971667\n",
       "5     (6, 5)  0.973390          0.975053\n",
       "6     (6, 7)  0.900000          0.906250\n",
       "7     (7, 8)  0.987713          0.988481"
      ]
     },
     "execution_count": 150,
     "metadata": {},
     "output_type": "execute_result"
    }
   ],
   "source": [
    "import pandas as pd\n",
    "\n",
    "qubit_pairs = [item for pair in zip(LAYER_1_ANSWER, LAYER_2_ANSWER) for item in pair]\n",
    "pfs = [cal_process_fid(alpha) for alpha in alphas]\n",
    "df = pd.DataFrame(zip(qubit_pairs, alphas, pfs), columns=['qubit pair', 'alpha', 'process fidelity'])\n",
    "df"
   ]
  },
  {
   "cell_type": "markdown",
   "metadata": {},
   "source": [
    "We now proceed to use the 2-qubit process fidelity `pfs` calculated above to compute the Layer Fidelity. For each value of the chain size, we take the largest Layer Fidelity from all the subchains measured. At the two ends of the chain, the 1-qubit process fidelity is approximated by the square root of the 2-qubit process fidelity. The data analysis code is adapted from the notebook [here](https://github.com/qiskit-community/qiskit-device-benchmarking/blob/main/notebooks/layer_fidelity.ipynb).  "
   ]
  },
  {
   "cell_type": "code",
   "execution_count": 151,
   "metadata": {},
   "outputs": [],
   "source": [
    "# Compute layer fidelity\n",
    "chain_lens = np.arange(2, len(pfs), 1)\n",
    "chain_fids = []\n",
    "for length in chain_lens:\n",
    "     w = length + 1  # window size\n",
    "     fid_w = max(\n",
    "          np.sqrt(pfs[s]) * np.prod(pfs[s + 1 : s + w - 1]) * np.sqrt(pfs[s + w - 1]) for s in range(len(pfs) - w + 1))\n",
    "     chain_fids.append(fid_w)"
   ]
  },
  {
   "cell_type": "markdown",
   "metadata": {},
   "source": [
    "Now we can present the Layer Fidelity as a function of our chain length. This should decrease for larger chains."
   ]
  },
  {
   "cell_type": "code",
   "execution_count": 152,
   "metadata": {},
   "outputs": [
    {
     "data": {
      "image/png": "[encoded data removed]",
      "text/plain": [
       "<Figure size 640x480 with 1 Axes>"
      ]
     },
     "metadata": {},
     "output_type": "display_data"
    }
   ],
   "source": [
    "# Plot LF by chain length\n",
    "plt.title(f\"Backend: {BACKEND.name}\")\n",
    "plt.plot(\n",
    "    chain_lens,\n",
    "    chain_fids,\n",
    "    marker=\"o\",\n",
    "    linestyle=\"-\",\n",
    ")\n",
    "plt.xlim(0, chain_lens[-1] * 1.05)\n",
    "plt.ylim(0.95 * min(chain_fids), 1)\n",
    "plt.ylabel(\"Layer Fidelity\")\n",
    "plt.xlabel(\"Chain Length\")\n",
    "plt.grid()\n",
    "plt.show()"
   ]
  },
  {
   "cell_type": "markdown",
   "metadata": {},
   "source": [
    "Then, at long last, we can calculate the EPLG as a function of chain length. EPLG is defined as \n",
    "$$\n",
    "EPLG = 1 − LF^{1/n_{2q}}\n",
    "$$\n",
    "where $n_{2q}$ is the number of two-qubit gates in all the layers"
   ]
  },
  {
   "cell_type": "code",
   "execution_count": 153,
   "metadata": {},
   "outputs": [
    {
     "data": {
      "image/png": "[encoded data removed]",
      "text/plain": [
       "<Figure size 640x480 with 1 Axes>"
      ]
     },
     "metadata": {},
     "output_type": "display_data"
    }
   ],
   "source": [
    "# Plot EPLG by chain length\n",
    "num_2q_gates = [length - 1 for length in chain_lens]\n",
    "chain_eplgs = [\n",
    "    1 - (fid ** (1 / num_2q)) for num_2q, fid in zip(num_2q_gates, chain_fids)\n",
    "]\n",
    "plt.title(f\"Backend: {BACKEND.name}\")\n",
    "plt.plot(\n",
    "    chain_lens,\n",
    "    chain_eplgs,\n",
    "    marker=\"o\",\n",
    "    linestyle=\"-\",\n",
    ")\n",
    "plt.xlim(0, chain_lens[-1] * 1.05)\n",
    "plt.ylabel(\"Error per Layered Gates\")\n",
    "plt.xlabel(\"Chain Length\")\n",
    "plt.grid()\n",
    "plt.show()"
   ]
  },
  {
   "cell_type": "markdown",
   "metadata": {},
   "source": [
    "This analysis is very useful in diagnosing which qubits and devices to use for utility-scale workloads."
   ]
  },
  {
   "cell_type": "code",
   "execution_count": 154,
   "metadata": {},
   "outputs": [
    {
     "data": {
      "text/html": [
       "<div style='width: 100%; background-color:#d5d9e0;padding-left: 10px; padding-bottom: 10px; padding-right: 10px; padding-top: 5px'><p>&copy; Copyright IBM 2017, 2024.</p><p>This code is licensed under the Apache License, Version 2.0. You may<br>obtain a copy of this license in the LICENSE.txt file in the root directory<br> of this source tree or at http://www.apache.org/licenses/LICENSE-2.0.<p>Any modifications or derivative works of this code must retain this<br>copyright notice, and modified files need to carry a notice indicating<br>that they have been altered from the originals.</p></div>"
      ],
      "text/plain": [
       "<IPython.core.display.HTML object>"
      ]
     },
     "metadata": {},
     "output_type": "display_data"
    }
   ],
   "source": [
    "import datetime\n",
    "from IPython.display import HTML, display\n",
    "\n",
    "\n",
    "def qiskit_copyright(line=\"\", cell=None):\n",
    "    \"\"\"IBM copyright\"\"\"\n",
    "    now = datetime.datetime.now()\n",
    "\n",
    "    html = \"<div style='width: 100%; background-color:#d5d9e0;\"\n",
    "    html += \"padding-left: 10px; padding-bottom: 10px; padding-right: 10px; padding-top: 5px'>\"\n",
    "    html += \"<p>&copy; Copyright IBM 2017, %s.</p>\" % now.year\n",
    "    html += \"<p>This code is licensed under the Apache License, Version 2.0. You may<br>\"\n",
    "    html += \"obtain a copy of this license in the LICENSE.txt file in the root directory<br> \"\n",
    "    html += \"of this source tree or at http://www.apache.org/licenses/LICENSE-2.0.\"\n",
    "\n",
    "    html += \"<p>Any modifications or derivative works of this code must retain this<br>\"\n",
    "    html += \"copyright notice, and modified files need to carry a notice indicating<br>\"\n",
    "    html += \"that they have been altered from the originals.</p>\"\n",
    "    html += \"</div>\"\n",
    "    return display(HTML(html))\n",
    "\n",
    "\n",
    "qiskit_copyright()"
   ]
  },
  {
   "cell_type": "code",
   "execution_count": null,
   "metadata": {},
   "outputs": [],
   "source": []
  }
 ],
 "metadata": {
  "kernelspec": {
   "display_name": "runtime-latest",
   "language": "python",
   "name": "python3"
  },
  "language_info": {
   "codemirror_mode": {
    "name": "ipython",
    "version": 3
   },
   "file_extension": ".py",
   "mimetype": "text/x-python",
   "name": "python",
   "nbconvert_exporter": "python",
   "pygments_lexer": "ipython3",
   "version": "3.11.9"
  }
 },
 "nbformat": 4,
 "nbformat_minor": 2
}
